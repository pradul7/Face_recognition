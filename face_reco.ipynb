{
 "cells": [
  {
   "cell_type": "code",
   "execution_count": 3,
   "metadata": {},
   "outputs": [],
   "source": [
    "import cv2"
   ]
  },
  {
   "cell_type": "code",
   "execution_count": 4,
   "metadata": {},
   "outputs": [],
   "source": [
    "def name_map(x):\n",
    "    if x == 'obama':\n",
    "        return 0\n",
    "    if x == 'cr7':\n",
    "        return 1\n",
    "    if x == 'dhoni':\n",
    "        return 2"
   ]
  },
  {
   "cell_type": "code",
   "execution_count": 5,
   "metadata": {},
   "outputs": [],
   "source": [
    "def get_name(x):\n",
    "    if x == 0:\n",
    "        return 'obama'\n",
    "    if x == 1:\n",
    "        return 'cr7'\n",
    "    if x == 2:\n",
    "        return 'dhoni'"
   ]
  },
  {
   "cell_type": "code",
   "execution_count": 6,
   "metadata": {},
   "outputs": [],
   "source": [
    "face_cascade = cv2.CascadeClassifier('/home/pradul/Videos/Deep Learning/PR_face_recognition/haarcascade_frontalface_default.xml')"
   ]
  },
  {
   "cell_type": "code",
   "execution_count": 7,
   "metadata": {},
   "outputs": [],
   "source": [
    "def face_detect(img):\n",
    "    img_gray = cv2.cvtColor(img,cv2.COLOR_BGR2GRAY)\n",
    "    faces = face_cascade.detectMultiScale(img_gray,minNeighbors=5)\n",
    "    if len(faces)==0:\n",
    "        return None,None                               # when no faces are detected in the image.Ist None = cropped grayscale face image, IINd = bounding box coordinates \n",
    "    x,y,w,h = faces[0]                                 # faces[0] >> the first detected face's bounding box. \n",
    "    return img_gray[x:x+w,y:y+h],faces[0]\n"
   ]
  },
  {
   "cell_type": "code",
   "execution_count": 8,
   "metadata": {},
   "outputs": [],
   "source": [
    "import os"
   ]
  },
  {
   "cell_type": "code",
   "execution_count": 9,
   "metadata": {},
   "outputs": [],
   "source": [
    "def training_data(data_folder):\n",
    "    faces=[]\n",
    "    labels=[]\n",
    "\n",
    "    dirs = os.listdir(data_folder)\n",
    "    for dir_name in dirs:\n",
    "        sub_dirs = data_folder + '/' + dir_name\n",
    "\n",
    "        images = os.listdir(sub_dirs)\n",
    "        for img_name in images:\n",
    "            img_path = sub_dirs + '/' + img_name\n",
    "            img = cv2.imread(img_path)\n",
    "\n",
    "            face,rect = face_detect(img)\n",
    "            if face is not None:\n",
    "                faces.append(face) \n",
    "                labels.append(name_map(dir_name))\n",
    "    return faces,labels"
   ]
  },
  {
   "cell_type": "markdown",
   "metadata": {},
   "source": [
    "variables inside function cannot be calles outside , therfore we have to create new variables again as shown below"
   ]
  },
  {
   "cell_type": "code",
   "execution_count": 10,
   "metadata": {},
   "outputs": [],
   "source": [
    "faces, labels = training_data('/home/pradul/Videos/Deep Learning/PR_face_recognition/DB')"
   ]
  },
  {
   "cell_type": "code",
   "execution_count": 11,
   "metadata": {},
   "outputs": [
    {
     "name": "stdout",
     "output_type": "stream",
     "text": [
      "[0, 0, 0, 0, 0, 0, 1, 1, 1, 1, 1, 1, 1, 1, 2, 2, 2, 2, 2, 2, 2, 2]\n"
     ]
    }
   ],
   "source": [
    "print(labels)"
   ]
  },
  {
   "cell_type": "code",
   "execution_count": 12,
   "metadata": {},
   "outputs": [],
   "source": [
    "recognizer = cv2.face.LBPHFaceRecognizer_create()"
   ]
  },
  {
   "cell_type": "code",
   "execution_count": 13,
   "metadata": {},
   "outputs": [],
   "source": [
    "import numpy as np   # for converting labels from list to array\n",
    "recognizer.train(faces,np.array(labels))         "
   ]
  },
  {
   "cell_type": "markdown",
   "metadata": {},
   "source": [
    "modifying output data"
   ]
  },
  {
   "cell_type": "code",
   "execution_count": 14,
   "metadata": {},
   "outputs": [],
   "source": [
    "def test_data_rect(img,rect):\n",
    "    x,y,w,h = rect\n",
    "    cv2.rectangle(img, (x,y), (x+w,y+h), (255,0,0), 2)\n"
   ]
  },
  {
   "cell_type": "code",
   "execution_count": 32,
   "metadata": {},
   "outputs": [],
   "source": [
    "def write_text(img,text,x,y):\n",
    "    cv2.putText(img, text, (x,y), color=(0,0,0), fontFace=cv2.FONT_HERSHEY_COMPLEX, fontScale=4, thickness=3)"
   ]
  },
  {
   "cell_type": "markdown",
   "metadata": {},
   "source": [
    "Prediction"
   ]
  },
  {
   "cell_type": "code",
   "execution_count": 33,
   "metadata": {},
   "outputs": [],
   "source": [
    "def predict_data(test_img):\n",
    "    face,rect = face_detect(test_img)\n",
    "    output = recognizer.predict(face)\n",
    "    output_name = get_name(output[0])\n",
    "    print(output_name) \n",
    "    test_data_rect(test_img,rect)\n",
    "    write_text(test_img,output_name,rect[0],rect[1])\n",
    "    cv2.imshow('bbd',test_img)\n",
    "    cv2.waitKey(4000)\n",
    "    cv2.destroyAllWindows()\n",
    "    "
   ]
  },
  {
   "cell_type": "code",
   "execution_count": 34,
   "metadata": {},
   "outputs": [
    {
     "name": "stdout",
     "output_type": "stream",
     "text": [
      "cr7\n"
     ]
    }
   ],
   "source": [
    "test_img = cv2.imread('/home/pradul/Videos/Deep Learning/PR_face_recognition/obama.jpg')\n",
    "predict_data(test_img)"
   ]
  },
  {
   "cell_type": "code",
   "execution_count": null,
   "metadata": {},
   "outputs": [],
   "source": []
  },
  {
   "cell_type": "code",
   "execution_count": null,
   "metadata": {},
   "outputs": [],
   "source": []
  }
 ],
 "metadata": {
  "kernelspec": {
   "display_name": "Python 3",
   "language": "python",
   "name": "python3"
  },
  "language_info": {
   "codemirror_mode": {
    "name": "ipython",
    "version": 3
   },
   "file_extension": ".py",
   "mimetype": "text/x-python",
   "name": "python",
   "nbconvert_exporter": "python",
   "pygments_lexer": "ipython3",
   "version": "3.8.10"
  }
 },
 "nbformat": 4,
 "nbformat_minor": 2
}
